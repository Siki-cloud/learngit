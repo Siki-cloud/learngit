{
 "cells": [
  {
   "cell_type": "code",
   "execution_count": 2,
   "outputs": [],
   "source": [
    "import openai\n",
    "from datasets import load_dataset"
   ],
   "metadata": {
    "collapsed": false,
    "ExecuteTime": {
     "end_time": "2023-10-19T13:52:42.356855200Z",
     "start_time": "2023-10-19T13:52:39.201779100Z"
    }
   },
   "id": "b162a57e8f04b886"
  },
  {
   "cell_type": "code",
   "execution_count": 11,
   "outputs": [],
   "source": [
    "# 设置你的API endpoint和API密钥\n",
    "BASE_URL = \"https://api.chatanywhere.cn/v1\"\n",
    "API_KEY = \"sk-965A2xlxfhEZsk4Lx8HEnQ5QDhPy2M73bkuznQZVHNXDTnrj\"\n",
    "\n",
    "# 使用自定义的endpoint和API密钥\n",
    "openai.api_base = BASE_URL\n",
    "openai.api_key = API_KEY\n",
    "\n",
    "# 设置全局使用的model\n",
    "GLOBAL_MODEL = \"gpt-3.5-turbo\""
   ],
   "metadata": {
    "collapsed": false,
    "ExecuteTime": {
     "end_time": "2023-10-20T02:55:36.637481200Z",
     "start_time": "2023-10-20T02:55:36.609952Z"
    }
   },
   "id": "2daf2bd18708bf1d"
  },
  {
   "cell_type": "markdown",
   "source": [
    "### test on the number of CFS\n",
    "\n",
    "cf_num=10/50  ok."
   ],
   "metadata": {
    "collapsed": false
   },
   "id": "cf65da20f923f613"
  },
  {
   "cell_type": "code",
   "execution_count": 8,
   "outputs": [
    {
     "name": "stdout",
     "output_type": "stream",
     "text": [
      "1. The widow hires a compassionate handyman, transforming the film into a gripping and unpredictable noir thriller that effectively builds tension.\n",
      "2. A meticulous film noir thriller unfolds as the widow employs a skilled handyman, resulting in a promising set-up that keeps viewers on the edge of their seats.\n",
      "3. In this captivating film noir thriller, the widow engages a mysterious handyman who adds depth and intensity to the story's tension-filled premise.\n",
      "4. The widow's decision to hire a resourceful handyman turns this film noir thriller into a masterfully crafted tale, skillfully building on its promising set-up.\n",
      "5. A gripping and well-executed film noir thriller emerges as the widow enlists the help of a cunning handyman, effectively utilizing its tension-filled premise.\n",
      "6. The handyman, a complex character with a dark past, brings an unexpected twist to this film noir thriller, enhancing its promising set-up and tension.\n",
      "7. This meticulously crafted film noir thriller takes an intriguing turn as the widow employs a charismatic handyman, resulting in a tension-filled and captivating narrative.\n",
      "8. The widow's choice to hire a skilled handyman adds depth and complexity to this film noir thriller, elevating its promising set-up and tension.\n",
      "9. A captivating and suspenseful film noir thriller unfolds as the widow enlists the services of a calculated handyman, effectively utilizing its tension-filled premise.\n",
      "10. The handyman's enigmatic nature and unpredictable actions inject a thrilling and suspenseful element into this film noir, enhancing its promising set-up and tension.\n"
     ]
    }
   ],
   "source": [
    "cf_num=10\n",
    "query_instance = \"Widow hires a psychopath as a handyman. Sloppy film noir thriller which doesn't make much of its tension promising set-up.\"\n",
    "# ask gpt\n",
    "promt = (f'i got a opinion about a movie: {query_instance}.\\n'\n",
    "             f'can you think about waht you can do to change in the sentence to express the different viewpoint? for example, change the subject, the adjective,  the verb, or the sentence structure.'\n",
    "             f'i want to {cf_num} different sentences to express the opposite sentiment')\n",
    "\n",
    "chat_completion = openai.ChatCompletion.create(\n",
    "        model=GLOBAL_MODEL,\n",
    "        messages=[{\"role\": \"user\", \"content\": promt}])\n",
    "# print(chat_completion)\n",
    "answer = chat_completion['choices'][0][\"message\"]['content']\n",
    "print(answer)\n"
   ],
   "metadata": {
    "collapsed": false,
    "ExecuteTime": {
     "end_time": "2023-10-20T02:51:32.447342900Z",
     "start_time": "2023-10-20T02:51:23.950652300Z"
    }
   },
   "id": "4d3fe123170fe801"
  },
  {
   "cell_type": "code",
   "execution_count": 6,
   "outputs": [],
   "source": [
    "cf_num=50\n",
    "query_instance = \"Widow hires a psychopath as a handyman. Sloppy film noir thriller which doesn't make much of its tension promising set-up.\"\n",
    "# ask gpt\n",
    "promt = (f'i got a opinion about a movie: {query_instance}.\\n'\n",
    "             f'can you think about what you can do to change in the sentence to express the different viewpoint? for example, change the subject, the adjective,  the verb, or the sentence structure.'\n",
    "             f'and then give me {cf_num} different sentences to express the opposite sentiment.')\n"
   ],
   "metadata": {
    "collapsed": false,
    "ExecuteTime": {
     "start_time": "2023-10-20T02:35:20.210827500Z"
    }
   },
   "id": "initial_id"
  },
  {
   "cell_type": "code",
   "execution_count": 7,
   "outputs": [
    {
     "name": "stdout",
     "output_type": "stream",
     "text": [
      "Sure! Here are 50 different sentences expressing the opposite sentiment about the movie:\n",
      "\n",
      "1. A widow hires a compassionate handyman who brings unexpected warmth to her life.\n",
      "2. Flawlessly executed film noir thriller that effectively maintains tension throughout its promising set-up.\n",
      "3. The handyman hired by the widow turns out to be a caring individual, adding depth to this gripping film noir.\n",
      "4. A meticulously crafted film noir thriller that skillfully utilizes its tension-filled set-up.\n",
      "5. In this captivating film noir, a widow finds solace in the company of a kind-hearted handyman.\n",
      "6. An impeccably executed film noir thriller that maximizes the tension of its promising set-up.\n",
      "7. The handyman hired by the widow proves to be a reliable and trustworthy companion, elevating this gripping film noir.\n",
      "8. A masterfully directed film noir thriller that expertly builds upon its tension-filled set-up.\n",
      "9. The widow's decision to hire a compassionate handyman leads to unexpected twists in this captivating film noir.\n",
      "10. A flawlessly executed film noir thriller that effectively utilizes the tension of its promising set-up.\n",
      "11. The handyman hired by the widow brings a refreshing dynamic to this gripping film noir.\n",
      "12. A meticulously crafted film noir thriller that skillfully maintains tension throughout its promising set-up.\n",
      "13. In this captivating film noir, a widow discovers the hidden depths of her hired handyman.\n",
      "14. An impeccably executed film noir thriller that maximizes the tension of its promising set-up.\n",
      "15. The handyman hired by the widow becomes an integral part of this gripping film noir, adding layers of complexity.\n",
      "16. A masterfully directed film noir thriller that expertly builds upon the tension-filled set-up.\n",
      "17. The widow's decision to hire a compassionate handyman leads to surprising revelations in this captivating film noir.\n",
      "18. A flawlessly executed film noir thriller that effectively captures the tension of its promising set-up.\n",
      "19. The handyman hired by the widow brings a sense of compassion and understanding to this gripping film noir.\n",
      "20. A meticulously crafted film noir thriller that skillfully intensifies the tension throughout its promising set-up.\n",
      "21. In this captivating film noir, a widow forms an unlikely bond with her hired handyman.\n",
      "22. An impeccably executed film noir thriller that maximizes the tension and suspense of its promising set-up.\n",
      "23. The handyman hired by the widow becomes a source of comfort and support in this gripping film noir.\n",
      "24. A masterfully directed film noir thriller that expertly escalates the tension of its promising set-up.\n",
      "25. The widow's decision to hire a compassionate handyman leads to a compelling narrative in this captivating film noir.\n",
      "26. A flawlessly executed film noir thriller that effectively maintains the tension and intrigue of its promising set-up.\n",
      "27. The handyman hired by the widow brings a much-needed sense of humanity to this gripping film noir.\n",
      "28. A meticulously crafted film noir thriller that skillfully weaves tension throughout its promising set-up.\n",
      "29. In this captivating film noir, a widow discovers the transformative power of her hired handyman.\n",
      "30. An impeccably executed film noir thriller that maximizes the tension and mystery of its promising set-up.\n",
      "31. The handyman hired by the widow becomes an unexpected ally in this gripping film noir.\n",
      "32. A masterfully directed film noir thriller that expertly sustains the tension of its promising set-up.\n",
      "33. The widow's decision to hire a compassionate handyman leads to an emotionally charged storyline in this captivating film noir.\n",
      "34. A flawlessly executed film noir thriller that effectively heightens the tension of its promising set-up.\n",
      "35. The handyman hired by the widow brings a sense of compassion and empathy to this gripping film noir.\n",
      "36. A meticulously crafted film noir thriller that skillfully amplifies the tension throughout its promising set-up.\n",
      "37. In this captivating film noir, a widow finds solace and understanding in her hired handyman.\n",
      "38. An impeccably executed film noir thriller that maximizes the tension and suspense of its promising set-up.\n",
      "39. The handyman hired by the widow becomes an integral part of her journey in this gripping film noir.\n",
      "40. A masterfully directed film noir thriller that expertly intensifies the tension of its promising set-up.\n",
      "41. The widow's decision to hire a compassionate handyman leads to a riveting narrative in this captivating film noir.\n",
      "42. A flawlessly executed film noir thriller that effectively captures and maintains the tension of its promising set-up.\n",
      "43. The handyman hired by the widow brings a much-needed sense of humanity and compassion to this gripping film noir.\n",
      "44. A meticulously crafted film noir thriller that skillfully heightens the tension and intrigue throughout its promising set-up.\n",
      "45. In this captivating film noir, a widow discovers the transformative power of her hired handyman's presence.\n",
      "46. An impeccably executed film noir thriller that maximizes the tension, mystery, and suspense of its promising set-up.\n",
      "47. The handyman hired by the widow becomes a beacon of hope in this gripping film noir.\n",
      "48. A masterfully directed film noir thriller that expertly sustains and escalates the tension of its promising set-up.\n",
      "49. The widow's decision to hire a compassionate handyman leads to a profound and emotionally resonant storyline in this captivating film noir.\n",
      "50. A flawlessly executed film noir thriller that effectively builds, maintains, and releases the tension of its promising set-up.\n"
     ]
    }
   ],
   "source": [
    "chat_completion = openai.ChatCompletion.create(\n",
    "        model=GLOBAL_MODEL,\n",
    "        messages=[{\"role\": \"user\", \"content\": promt}])\n",
    "# print(chat_completion)\n",
    "answer = chat_completion['choices'][0][\"message\"]['content']\n",
    "print(answer)"
   ],
   "metadata": {
    "collapsed": false,
    "ExecuteTime": {
     "start_time": "2023-10-20T02:35:27.560992100Z"
    }
   },
   "id": "50f71ce5368e6413"
  },
  {
   "cell_type": "code",
   "execution_count": 21,
   "outputs": [
    {
     "name": "stdout",
     "output_type": "stream",
     "text": [
      "1. The widow employs a compassionate handyman, resulting in a captivating film noir thriller that effectively builds tension from its promising set-up.\n",
      "2. A meticulous film noir thriller unfolds as the widow hires a mysterious handyman, showcasing the tension and potential of its promising set-up.\n",
      "3. In this gripping film noir thriller, the widow recruits an enigmatic handyman who adds depth and intensity to the promising set-up.\n",
      "4. An intriguing film noir thriller takes shape as the widow enlists a skilled handyman, skillfully utilizing the tension and potential of its promising set-up.\n",
      "5. The widow's decision to hire a charismatic handyman leads to an enthralling film noir thriller, skillfully capitalizing on the tension and promise of its set-up.\n"
     ]
    }
   ],
   "source": [
    "cf_num=5\n",
    "query_instance = \"Widow hires a psychopath as a handyman. Sloppy film noir thriller which doesn't make much of its tension promising set-up.\"\n",
    "# ask gpt\n",
    "promt = (f'i got a opinion about a movie: {query_instance}.\\n'\n",
    "             f'can you think about waht you can do to change in the sentence to express the different viewpoint? for example, change the subject, the adjective,  the verb, or the sentence structure.'\n",
    "             f'i want to {cf_num} different sentences to express the opposite sentiment')\n",
    "\n",
    "chat_completion = openai.ChatCompletion.create(\n",
    "        model=GLOBAL_MODEL,\n",
    "        messages=[{\"role\": \"user\", \"content\": promt}])\n",
    "# print(chat_completion)\n",
    "answer = chat_completion['choices'][0][\"message\"]['content']\n",
    "print(answer)"
   ],
   "metadata": {
    "collapsed": false,
    "ExecuteTime": {
     "end_time": "2023-10-20T04:29:51.102786900Z",
     "start_time": "2023-10-20T04:29:39.831279800Z"
    }
   },
   "id": "f290368bc4bce451"
  },
  {
   "cell_type": "markdown",
   "source": [
    "### test on the different between nonsystem and the specific system\n",
    "\n",
    "Two dialogue rounds"
   ],
   "metadata": {
    "collapsed": false
   },
   "id": "d74025c39a0ef4b4"
  },
  {
   "cell_type": "markdown",
   "source": [
    "#### nonsystem"
   ],
   "metadata": {
    "collapsed": false
   },
   "id": "ba9854660e9c59fd"
  },
  {
   "cell_type": "code",
   "execution_count": 22,
   "outputs": [
    {
     "name": "stdout",
     "output_type": "stream",
     "text": [
      "1. The film noir thriller falls short as the widow hires a psychopath as a handyman, resulting in a sloppy execution and a lack of tension from its promising set-up.\n",
      "2. Despite its promising set-up, the film noir thriller fails to deliver as the widow's decision to employ a psychopath as a handyman leads to a messy and unconvincing storyline.\n",
      "3. The tension and potential of the promising set-up are wasted in this sloppy film noir thriller, where the widow's choice to hire a psychopath as a handyman adds little depth or excitement.\n",
      "4. The film noir thriller disappoints as the widow's decision to bring in a psychopath as a handyman results in a lackluster execution, failing to capitalize on the tension and promise of its set-up.\n",
      "5. In this underwhelming film noir thriller, the widow's choice to employ a psychopath as a handyman leads to a messy and disjointed narrative, failing to effectively utilize the tension and potential of its promising set-up.\n"
     ]
    }
   ],
   "source": [
    "cf_num=5\n",
    "query_instance = \"Widow hires a psychopath as a handyman. Sloppy film noir thriller which doesn't make much of its tension promising set-up.\"\n",
    "# ask gpt\n",
    "promt = (f'i got a opinion about a movie: {query_instance}.\\n'\n",
    "             f'can you think about waht you can change in the sentence to express the different viewpoint? for example, change the subject, the adjective,  the verb, or the sentence structure.'\n",
    "             f'i want to {cf_num} different sentences to express the opposite sentiment')\n",
    "assit = (f'{answer}')\n",
    "promt2= (f'could you give me {cf_num} different sentences to express the same sentiment with the original sentences based on the above opposite sentences')\n",
    "chat_completion = openai.ChatCompletion.create(\n",
    "        model=GLOBAL_MODEL,\n",
    "        messages=[{\"role\": \"user\", \"content\": promt},\n",
    "                  {\"role\":\"assistant\",\"content\":assit},\n",
    "                  {\"role\":\"user\",\"content\":promt2}])\n",
    "# print(chat_completion)\n",
    "answer2 = chat_completion['choices'][0][\"message\"]['content']\n",
    "print(answer2)"
   ],
   "metadata": {
    "collapsed": false,
    "ExecuteTime": {
     "end_time": "2023-10-20T04:30:08.383033900Z",
     "start_time": "2023-10-20T04:29:54.000926800Z"
    }
   },
   "id": "901ce74a9768b6d5"
  },
  {
   "cell_type": "markdown",
   "source": [
    "#### NLP expert system\n",
    "1st expert"
   ],
   "metadata": {
    "collapsed": false
   },
   "id": "651db09955fb5f9b"
  },
  {
   "cell_type": "code",
   "execution_count": 23,
   "outputs": [
    {
     "name": "stdout",
     "output_type": "stream",
     "text": [
      "1. The widow engages a psychopath as a handyman. Meticulously crafted film noir thriller that skillfully capitalizes on its tension and delivers on its promising set-up.\n",
      "2. A psychopath is hired by the widow as a handyman. Flawlessly executed film noir thriller that effectively builds on its tension and fully realizes its promising set-up.\n",
      "3. The widow employs a psychopath as a handyman. Impeccably executed film noir thriller that expertly exploits its tension and brilliantly fulfills its promising set-up.\n",
      "4. A handyman, who happens to be a psychopath, is hired by the widow. Expertly crafted film noir thriller that masterfully utilizes its tension and flawlessly executes its promising set-up.\n",
      "5. The widow enlists the services of a psychopath as a handyman. Exquisitely constructed film noir thriller that expertly manipulates its tension and skillfully delivers on its promising set-up.\n"
     ]
    }
   ],
   "source": [
    "sys_= 'You are an expert in natural language, proficient in language rewrite and creation.'\n",
    "cf_num=5\n",
    "query_instance = \"Widow hires a psychopath as a handyman. Sloppy film noir thriller which doesn't make much of its tension promising set-up.\"\n",
    "# ask gpt\n",
    "promt = (f'i got a opinion about a movie: {query_instance}.\\n'\n",
    "             f'can you think about waht you can do change in the sentence to express the different viewpoint? for example, change the subject, the adjective,  the verb, or the sentence structure.'\n",
    "             f'i want to {cf_num} different sentences to express the opposite sentiment')\n",
    "\n",
    "chat_completion = openai.ChatCompletion.create(\n",
    "        model=GLOBAL_MODEL,\n",
    "        messages=[\n",
    "            {\"role\":\"system\",\"content\":sys_},\n",
    "            {\"role\": \"user\", \"content\": promt}])\n",
    "# print(chat_completion)\n",
    "sys_answer1 = chat_completion['choices'][0][\"message\"]['content']\n",
    "print(sys_answer1)"
   ],
   "metadata": {
    "collapsed": false,
    "ExecuteTime": {
     "start_time": "2023-10-20T04:31:08.773208300Z"
    }
   },
   "id": "a3d5ef61823d4795"
  },
  {
   "cell_type": "code",
   "execution_count": 24,
   "outputs": [
    {
     "name": "stdout",
     "output_type": "stream",
     "text": [
      "1. The widow makes a regrettable decision by hiring a psychopath as a handyman. Messy film noir thriller that fails to capitalize on its tension despite a promising set-up.\n",
      "2. A psychopath is unfortunately chosen by the widow as a handyman. Disappointingly executed film noir thriller that falls short in building tension despite a promising set-up.\n",
      "3. The widow's choice to employ a psychopath as a handyman proves to be a mistake. Lackluster film noir thriller that fails to effectively utilize its tension despite a promising set-up.\n",
      "4. The widow's decision to hire a handyman who happens to be a psychopath backfires. Mediocre film noir thriller that falls flat in exploiting its tension despite a promising set-up.\n",
      "5. The widow's enlistment of a psychopath as a handyman leads to a lackluster outcome. Underwhelming film noir thriller that fails to deliver on its tension despite a promising set-up.\n"
     ]
    }
   ],
   "source": [
    "# ask gpt\n",
    "promt = (f'i got a opinion about a movie: {query_instance}.\\n'\n",
    "             f'can you think about waht you can change in the sentence to express the different viewpoint? for example, change the subject, the adjective,  the verb, or the sentence structure.'\n",
    "             f'i want to {cf_num} different sentences to express the opposite sentiment')\n",
    "sys_assit1 = (f'{sys_answer1}')\n",
    "promt2= (f'could you give me {cf_num} different sentences to express the same sentiment with the original sentences based on the above opposite sentences')\n",
    "chat_completion = openai.ChatCompletion.create(\n",
    "        model=GLOBAL_MODEL,\n",
    "        messages=[\n",
    "            {\"role\":\"system\",\"content\":sys_},\n",
    "            {\"role\": \"user\", \"content\": promt},\n",
    "            {\"role\":\"assistant\",\"content\":sys_assit1},\n",
    "            {\"role\":\"user\",\"content\":promt2}])\n",
    "# print(chat_completion)\n",
    "sys_answer2 = chat_completion['choices'][0][\"message\"]['content']\n",
    "print(sys_answer2)"
   ],
   "metadata": {
    "collapsed": false,
    "ExecuteTime": {
     "start_time": "2023-10-20T04:32:39.643157500Z"
    }
   },
   "id": "39552b07b77d04c7"
  },
  {
   "cell_type": "markdown",
   "source": [
    "2ed expert"
   ],
   "metadata": {
    "collapsed": false
   },
   "id": "5d43386782e13dc5"
  },
  {
   "cell_type": "code",
   "execution_count": 27,
   "outputs": [
    {
     "name": "stdout",
     "output_type": "stream",
     "text": [
      "1. The widow engages a compassionate handyman, creating a captivating film noir thriller that expertly builds tension from its promising set-up.\n",
      "2. A meticulous film noir thriller unfolds as the widow employs a skilled handyman, skillfully utilizing its tension-filled set-up.\n",
      "3. In this gripping film noir thriller, the widow enlists a mysterious handyman, effectively capitalizing on the tension of its promising set-up.\n",
      "4. The widow recruits a reliable handyman, resulting in a meticulously crafted film noir thriller that effectively maintains its tension throughout.\n",
      "5. A well-executed film noir thriller emerges as the widow hires a resourceful handyman, skillfully leveraging the tension inherent in its promising set-up.\n"
     ]
    }
   ],
   "source": [
    "sys_= 'You are an expert in natural language, proficient in language rewrite and creation. You are well-versed in phonetics, syntax, semantics, and other essential aspects of language, allowing them to unravel the intricacies of human communication and explore the evolution and diversity of languages throughout history.'\n",
    "cf_num=5\n",
    "query_instance = \"Widow hires a psychopath as a handyman. Sloppy film noir thriller which doesn't make much of its tension promising set-up.\"\n",
    "# ask gpt\n",
    "promt = (f'i got a opinion about a movie: {query_instance}.\\n'\n",
    "             f'can you think about waht you can do change in the sentence to express the different viewpoint? for example, change the subject, the adjective,  the verb, or the sentence structure.'\n",
    "             f'i want to {cf_num} different sentences to express the opposite sentiment')\n",
    "\n",
    "chat_completion = openai.ChatCompletion.create(\n",
    "        model=GLOBAL_MODEL,\n",
    "        messages=[\n",
    "            {\"role\":\"system\",\"content\":sys_},\n",
    "            {\"role\": \"user\", \"content\": promt}])\n",
    "# print(chat_completion)\n",
    "sys2_answer1 = chat_completion['choices'][0][\"message\"]['content']\n",
    "print(sys2_answer1)"
   ],
   "metadata": {
    "collapsed": false,
    "ExecuteTime": {
     "start_time": "2023-10-20T04:46:12.948475600Z"
    }
   },
   "id": "fbbba9fccfa1cdbb"
  },
  {
   "cell_type": "code",
   "execution_count": 28,
   "outputs": [
    {
     "name": "stdout",
     "output_type": "stream",
     "text": [
      "1. The movie fails to deliver on its promising set-up, as the widow hires a psychopath as a handyman, resulting in a sloppy and unconvincing film noir thriller.\n",
      "2. Despite its tension-filled set-up, the film falls short as the widow makes the ill-advised decision to hire a psychopath as a handyman, resulting in a lackluster and poorly executed film noir thriller.\n",
      "3. The film's potential for tension and intrigue is squandered as the widow inexplicably hires a psychopath as a handyman, leading to a messy and unsatisfying film noir thriller.\n",
      "4. The promising set-up of the film is ultimately wasted as the widow's decision to hire a psychopath as a handyman leads to a disjointed and underwhelming film noir thriller.\n",
      "5. The film's initial promise quickly dissipates as the widow's choice to employ a psychopath as a handyman results in a poorly constructed and tensionless film noir thriller.\n"
     ]
    }
   ],
   "source": [
    "# ask gpt\n",
    "promt = (f'i got a opinion about a movie: {query_instance}.\\n'\n",
    "             f'can you think about waht you can change in the sentence to express the different viewpoint? for example, change the subject, the adjective,  the verb, or the sentence structure.'\n",
    "             f'i want to {cf_num} different sentences to express the opposite sentiment')\n",
    "sys2_assit1 = (f'{sys2_answer1}')\n",
    "promt2= (f'could you give me {cf_num} different sentences to express the same sentiment with the original sentences based on the above opposite sentences')\n",
    "chat_completion = openai.ChatCompletion.create(\n",
    "        model=GLOBAL_MODEL,\n",
    "        messages=[\n",
    "            {\"role\":\"system\",\"content\":sys_},\n",
    "            {\"role\": \"user\", \"content\": promt},\n",
    "            {\"role\":\"assistant\",\"content\":sys2_assit1},\n",
    "            {\"role\":\"user\",\"content\":promt2}])\n",
    "# print(chat_completion)\n",
    "sys2_answer2 = chat_completion['choices'][0][\"message\"]['content']\n",
    "print(sys2_answer2)"
   ],
   "metadata": {
    "collapsed": false,
    "ExecuteTime": {
     "end_time": "2023-10-20T04:47:21.258320400Z",
     "start_time": "2023-10-20T04:47:07.147827400Z"
    }
   },
   "id": "30b875fc76da51e"
  },
  {
   "cell_type": "code",
   "execution_count": null,
   "outputs": [],
   "source": [],
   "metadata": {
    "collapsed": false
   },
   "id": "542121feeebffb43"
  }
 ],
 "metadata": {
  "kernelspec": {
   "display_name": "Python 3",
   "language": "python",
   "name": "python3"
  },
  "language_info": {
   "codemirror_mode": {
    "name": "ipython",
    "version": 2
   },
   "file_extension": ".py",
   "mimetype": "text/x-python",
   "name": "python",
   "nbconvert_exporter": "python",
   "pygments_lexer": "ipython2",
   "version": "2.7.6"
  }
 },
 "nbformat": 4,
 "nbformat_minor": 5
}
